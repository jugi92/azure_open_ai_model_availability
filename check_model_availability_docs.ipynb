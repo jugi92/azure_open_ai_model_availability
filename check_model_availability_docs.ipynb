{
 "cells": [
  {
   "cell_type": "code",
   "execution_count": 1,
   "id": "d75c734c",
   "metadata": {},
   "outputs": [],
   "source": [
    "# Read the file and keep every 3rd line in an array\n",
    "import pandas as pd\n",
    "import re\n",
    "from io import StringIO\n",
    "import requests\n",
    "import os"
   ]
  },
  {
   "cell_type": "code",
   "execution_count": 2,
   "id": "f0dd7b00",
   "metadata": {},
   "outputs": [],
   "source": [
    "def download_file(url, save_path):\n",
    "    try:\n",
    "        response = requests.get(url)\n",
    "        response.raise_for_status()  # Raise an error for bad responses\n",
    "        with open(save_path, 'wb') as file:\n",
    "            file.write(response.content)\n",
    "        print(f\"Downloaded: {save_path}\")\n",
    "    except requests.exceptions.RequestException as e:\n",
    "        print(f\"Failed to download {url}: {e}\")"
   ]
  },
  {
   "cell_type": "code",
   "execution_count": 3,
   "id": "bec5d2b9",
   "metadata": {},
   "outputs": [],
   "source": [
    "def read_every_third_line(file_path):\n",
    "    result = []\n",
    "    with open(file_path, 'r') as file:\n",
    "        for index, line in enumerate(file):\n",
    "            if (index) % 3 == 0:  # Keep every 3rd line (0-based index)\n",
    "                result.append(line.strip())\n",
    "    return result"
   ]
  },
  {
   "cell_type": "code",
   "execution_count": 4,
   "id": "3f093c72",
   "metadata": {},
   "outputs": [],
   "source": [
    "# read tables in markdown files and append to dataframe\n",
    "def read_markdown_table(file_path):\n",
    "    with open(file_path, 'r', encoding=\"UTF-8\") as file:\n",
    "        content = file.read()\n",
    "        # Find the table in the markdown file\n",
    "        # replace everything before the ---\\n\\n\n",
    "        content = re.sub(r'^(.*?)(\\n---\\n\\n)', '', content, flags=re.DOTALL)\n",
    "\n",
    "        df = pd.read_csv(StringIO(content), sep='|', skipinitialspace=True)\n",
    "        # drop columns with Unnamed in column name\n",
    "        df = df.loc[:, ~df.columns.str.contains('^Unnamed')]\n",
    "        # replace all ** in col names with empty string\n",
    "        df.columns = df.columns.str.replace('**', '', regex=False)\n",
    "        # replace all leading and trailing spaces in col names with empty string\n",
    "        df.columns = df.columns.str.strip()\n",
    "        # remove row 2\n",
    "        df = df.drop(df.index[0])\n",
    "        # remove all leading and trailing spaces in the dataframe\n",
    "        df = df.map(lambda x: x.strip() if isinstance(x, str) else x)\n",
    "        # rename columns to lowercase\n",
    "        df.columns = df.columns.str.lower()\n",
    "        # append file name without extension to the dataframe as new column\n",
    "        file_name = os.path.basename(file_path)\n",
    "        file_name = os.path.splitext(file_name)[0]\n",
    "        df['deployment_type'] = file_name\n",
    "        # transform columns to rows except for the first column\n",
    "        df = df.melt(id_vars=[\"region\", \"deployment_type\"], var_name='model_full', value_name='is_available')\n",
    "        # replace ✅ with True\n",
    "        df['is_available'] = df['is_available'].replace({'✅': True, '-': False})\n",
    "\n",
    "        # extract model from model_full by using everything before the first comma\n",
    "        df['model'] = df['model_full'].str.extract(r'^(.*?),')[0]\n",
    "\n",
    "        # extract version from model_full by using everything after the first comma\n",
    "        df['version'] = df['model_full'].str.extract(r',\\s*(.*)')[0]\n",
    "\n",
    "        # remove leading and trailing spaces in model and version columns\n",
    "        df['model'] = df['model'].str.strip()\n",
    "        df['version'] = df['version'].str.strip()\n",
    "\n",
    "        return df\n",
    "    return None"
   ]
  },
  {
   "cell_type": "code",
   "execution_count": null,
   "id": "c5516ddc",
   "metadata": {},
   "outputs": [
    {
     "name": "stdout",
     "output_type": "stream",
     "text": [
      "['datazone-provisioned-managed.md', 'datazone-standard.md', 'global-batch-datazone.md', 'global-batch.md', 'provisioned-global.md', 'provisioned-models.md', 'quota.md', 'standard-audio.md', 'standard-chat-completions.md', 'standard-completions.md', 'standard-embeddings.md', 'standard-global.md', 'standard-gpt-35-turbo.md', 'standard-gpt-4.md', 'standard-image-generation.md', 'standard-models.md']\n"
     ]
    }
   ],
   "source": [
    "# Example usage\n",
    "# replace contents by copy pasting the table from this link if needed:\n",
    "# https://github.com/MicrosoftDocs/azure-ai-docs/tree/main/articles/ai-services/openai/includes/model-matrix\n",
    "file_path = 'model_matrix_file_listing.txt'\n",
    "deployment_types = read_every_third_line(file_path)\n",
    "# something like this:\n",
    "# ['datazone-provisioned-managed.md', 'datazone-standard.md', 'global-batch-datazone.md', 'global-batch.md', 'provisioned-global.md', 'provisioned-models.md', 'quota.md', 'standard-audio.md', 'standard-chat-completions.md', 'standard-completions.md', 'standard-embeddings.md', 'standard-global.md', 'standard-gpt-35-turbo.md', 'standard-gpt-4.md', 'standard-image-generation.md', 'standard-models.md']\n",
    "print(deployment_types)"
   ]
  },
  {
   "cell_type": "code",
   "execution_count": 6,
   "id": "fa921f79",
   "metadata": {},
   "outputs": [
    {
     "name": "stdout",
     "output_type": "stream",
     "text": [
      "Downloaded: downloaded_files\\datazone-provisioned-managed.md\n",
      "Downloaded: downloaded_files\\datazone-standard.md\n",
      "Downloaded: downloaded_files\\global-batch-datazone.md\n",
      "Downloaded: downloaded_files\\global-batch.md\n"
     ]
    },
    {
     "name": "stderr",
     "output_type": "stream",
     "text": [
      "C:\\Users\\juliangimbel\\AppData\\Local\\Temp\\ipykernel_26004\\333599743.py:29: FutureWarning: Downcasting behavior in `replace` is deprecated and will be removed in a future version. To retain the old behavior, explicitly call `result.infer_objects(copy=False)`. To opt-in to the future behavior, set `pd.set_option('future.no_silent_downcasting', True)`\n",
      "  df['is_available'] = df['is_available'].replace({'✅': True, '-': False})\n",
      "C:\\Users\\juliangimbel\\AppData\\Local\\Temp\\ipykernel_26004\\333599743.py:29: FutureWarning: Downcasting behavior in `replace` is deprecated and will be removed in a future version. To retain the old behavior, explicitly call `result.infer_objects(copy=False)`. To opt-in to the future behavior, set `pd.set_option('future.no_silent_downcasting', True)`\n",
      "  df['is_available'] = df['is_available'].replace({'✅': True, '-': False})\n",
      "C:\\Users\\juliangimbel\\AppData\\Local\\Temp\\ipykernel_26004\\333599743.py:29: FutureWarning: Downcasting behavior in `replace` is deprecated and will be removed in a future version. To retain the old behavior, explicitly call `result.infer_objects(copy=False)`. To opt-in to the future behavior, set `pd.set_option('future.no_silent_downcasting', True)`\n",
      "  df['is_available'] = df['is_available'].replace({'✅': True, '-': False})\n",
      "C:\\Users\\juliangimbel\\AppData\\Local\\Temp\\ipykernel_26004\\333599743.py:29: FutureWarning: Downcasting behavior in `replace` is deprecated and will be removed in a future version. To retain the old behavior, explicitly call `result.infer_objects(copy=False)`. To opt-in to the future behavior, set `pd.set_option('future.no_silent_downcasting', True)`\n",
      "  df['is_available'] = df['is_available'].replace({'✅': True, '-': False})\n"
     ]
    },
    {
     "name": "stdout",
     "output_type": "stream",
     "text": [
      "Downloaded: downloaded_files\\provisioned-global.md\n",
      "Downloaded: downloaded_files\\provisioned-models.md\n",
      "Downloaded: downloaded_files\\quota.md\n",
      "Downloaded: downloaded_files\\standard-audio.md\n"
     ]
    },
    {
     "name": "stderr",
     "output_type": "stream",
     "text": [
      "C:\\Users\\juliangimbel\\AppData\\Local\\Temp\\ipykernel_26004\\333599743.py:29: FutureWarning: Downcasting behavior in `replace` is deprecated and will be removed in a future version. To retain the old behavior, explicitly call `result.infer_objects(copy=False)`. To opt-in to the future behavior, set `pd.set_option('future.no_silent_downcasting', True)`\n",
      "  df['is_available'] = df['is_available'].replace({'✅': True, '-': False})\n",
      "C:\\Users\\juliangimbel\\AppData\\Local\\Temp\\ipykernel_26004\\333599743.py:29: FutureWarning: Downcasting behavior in `replace` is deprecated and will be removed in a future version. To retain the old behavior, explicitly call `result.infer_objects(copy=False)`. To opt-in to the future behavior, set `pd.set_option('future.no_silent_downcasting', True)`\n",
      "  df['is_available'] = df['is_available'].replace({'✅': True, '-': False})\n",
      "C:\\Users\\juliangimbel\\AppData\\Local\\Temp\\ipykernel_26004\\333599743.py:29: FutureWarning: Downcasting behavior in `replace` is deprecated and will be removed in a future version. To retain the old behavior, explicitly call `result.infer_objects(copy=False)`. To opt-in to the future behavior, set `pd.set_option('future.no_silent_downcasting', True)`\n",
      "  df['is_available'] = df['is_available'].replace({'✅': True, '-': False})\n"
     ]
    },
    {
     "name": "stdout",
     "output_type": "stream",
     "text": [
      "Downloaded: downloaded_files\\standard-chat-completions.md\n",
      "Downloaded: downloaded_files\\standard-completions.md\n",
      "Downloaded: downloaded_files\\standard-embeddings.md\n",
      "Downloaded: downloaded_files\\standard-global.md\n"
     ]
    },
    {
     "name": "stderr",
     "output_type": "stream",
     "text": [
      "C:\\Users\\juliangimbel\\AppData\\Local\\Temp\\ipykernel_26004\\333599743.py:29: FutureWarning: Downcasting behavior in `replace` is deprecated and will be removed in a future version. To retain the old behavior, explicitly call `result.infer_objects(copy=False)`. To opt-in to the future behavior, set `pd.set_option('future.no_silent_downcasting', True)`\n",
      "  df['is_available'] = df['is_available'].replace({'✅': True, '-': False})\n",
      "C:\\Users\\juliangimbel\\AppData\\Local\\Temp\\ipykernel_26004\\333599743.py:29: FutureWarning: Downcasting behavior in `replace` is deprecated and will be removed in a future version. To retain the old behavior, explicitly call `result.infer_objects(copy=False)`. To opt-in to the future behavior, set `pd.set_option('future.no_silent_downcasting', True)`\n",
      "  df['is_available'] = df['is_available'].replace({'✅': True, '-': False})\n",
      "C:\\Users\\juliangimbel\\AppData\\Local\\Temp\\ipykernel_26004\\333599743.py:29: FutureWarning: Downcasting behavior in `replace` is deprecated and will be removed in a future version. To retain the old behavior, explicitly call `result.infer_objects(copy=False)`. To opt-in to the future behavior, set `pd.set_option('future.no_silent_downcasting', True)`\n",
      "  df['is_available'] = df['is_available'].replace({'✅': True, '-': False})\n",
      "C:\\Users\\juliangimbel\\AppData\\Local\\Temp\\ipykernel_26004\\333599743.py:29: FutureWarning: Downcasting behavior in `replace` is deprecated and will be removed in a future version. To retain the old behavior, explicitly call `result.infer_objects(copy=False)`. To opt-in to the future behavior, set `pd.set_option('future.no_silent_downcasting', True)`\n",
      "  df['is_available'] = df['is_available'].replace({'✅': True, '-': False})\n"
     ]
    },
    {
     "name": "stdout",
     "output_type": "stream",
     "text": [
      "Downloaded: downloaded_files\\standard-gpt-35-turbo.md\n",
      "Downloaded: downloaded_files\\standard-gpt-4.md\n",
      "Downloaded: downloaded_files\\standard-image-generation.md\n",
      "Downloaded: downloaded_files\\standard-models.md\n"
     ]
    },
    {
     "name": "stderr",
     "output_type": "stream",
     "text": [
      "C:\\Users\\juliangimbel\\AppData\\Local\\Temp\\ipykernel_26004\\333599743.py:29: FutureWarning: Downcasting behavior in `replace` is deprecated and will be removed in a future version. To retain the old behavior, explicitly call `result.infer_objects(copy=False)`. To opt-in to the future behavior, set `pd.set_option('future.no_silent_downcasting', True)`\n",
      "  df['is_available'] = df['is_available'].replace({'✅': True, '-': False})\n",
      "C:\\Users\\juliangimbel\\AppData\\Local\\Temp\\ipykernel_26004\\333599743.py:29: FutureWarning: Downcasting behavior in `replace` is deprecated and will be removed in a future version. To retain the old behavior, explicitly call `result.infer_objects(copy=False)`. To opt-in to the future behavior, set `pd.set_option('future.no_silent_downcasting', True)`\n",
      "  df['is_available'] = df['is_available'].replace({'✅': True, '-': False})\n",
      "C:\\Users\\juliangimbel\\AppData\\Local\\Temp\\ipykernel_26004\\333599743.py:29: FutureWarning: Downcasting behavior in `replace` is deprecated and will be removed in a future version. To retain the old behavior, explicitly call `result.infer_objects(copy=False)`. To opt-in to the future behavior, set `pd.set_option('future.no_silent_downcasting', True)`\n",
      "  df['is_available'] = df['is_available'].replace({'✅': True, '-': False})\n",
      "C:\\Users\\juliangimbel\\AppData\\Local\\Temp\\ipykernel_26004\\333599743.py:29: FutureWarning: Downcasting behavior in `replace` is deprecated and will be removed in a future version. To retain the old behavior, explicitly call `result.infer_objects(copy=False)`. To opt-in to the future behavior, set `pd.set_option('future.no_silent_downcasting', True)`\n",
      "  df['is_available'] = df['is_available'].replace({'✅': True, '-': False})\n"
     ]
    }
   ],
   "source": [
    "\n",
    "url_prefix = \"https://raw.githubusercontent.com/MicrosoftDocs/azure-ai-docs/refs/heads/main/articles/ai-services/openai/includes/model-matrix/\"\n",
    "# download the files from the URLs in the array\n",
    "all_dataframes = []\n",
    "\n",
    "for file_name in deployment_types:\n",
    "    url = url_prefix + file_name\n",
    "    # Save to a directory named 'downloaded_files'\n",
    "    save_path = os.path.join('downloaded_files', file_name)\n",
    "    # Create the directory if it doesn't exist\n",
    "    os.makedirs(os.path.dirname(save_path), exist_ok=True)\n",
    "    download_file(url, save_path)\n",
    "    if not \"quota\" in file_name:\n",
    "        one_df = read_markdown_table(save_path)\n",
    "        if one_df is not None:\n",
    "            all_dataframes.append(one_df)\n",
    "\n",
    "# Combine all dataframes into a single dataframe\n",
    "df = pd.concat(all_dataframes, ignore_index=True)"
   ]
  },
  {
   "cell_type": "code",
   "execution_count": 7,
   "id": "0a4d5a98",
   "metadata": {},
   "outputs": [],
   "source": [
    "gdpr_regions = ['francecentral', 'germanywestcentral','polandcentral',\n",
    "       'spaincentral', 'swedencentral', 'westeurope', 'italynorth', \n",
    "       #'norwayeast', 'switzerlandnorth', 'uksouth', 'switzerlandwest'\n",
    "       ]"
   ]
  },
  {
   "cell_type": "code",
   "execution_count": 8,
   "id": "5f2d8c53",
   "metadata": {},
   "outputs": [],
   "source": [
    "df[\"gdpr_region\"] = df['region'].isin(gdpr_regions)\n",
    "df[\"global_deployment\"] = df['deployment_type'].str.contains(\"global\")\n",
    "\n",
    "df[\"usable_in_gdpr\"] = df[\"gdpr_region\"] & ~df[\"global_deployment\"] & df[\"is_available\"]\n",
    "\n",
    "# sort by usable_in_gdpr, region, model_full, deployment_type\n",
    "df = df.sort_values(by=[\"usable_in_gdpr\", \"region\", \"model_full\", \"deployment_type\"], ascending=[False, True, True, True])\n",
    "df.to_csv(\"azure_openai_service_model_matrix.csv\", index=False)"
   ]
  },
  {
   "cell_type": "code",
   "execution_count": 9,
   "id": "c52245d3",
   "metadata": {},
   "outputs": [
    {
     "name": "stdout",
     "output_type": "stream",
     "text": [
      "['gpt-35-turbo' 'gpt-35-turbo-16k' 'gpt-4' 'gpt-4-32k' 'gpt-4o'\n",
      " 'gpt-4o-mini' 'o1' 'o3-mini' 'text-embedding-3-large'\n",
      " 'text-embedding-ada-002' 'dall-e-3' 'gpt-35-turbo-instruct' 'o1-mini'\n",
      " 'o1-preview' 'tts' 'tts-hd' 'whisper']\n"
     ]
    }
   ],
   "source": [
    "\n",
    "# find models (group by) that are not available in any gdpr_region\n",
    "models_in_gdpr_df = df[df[\"usable_in_gdpr\"]]\n",
    "print(models_in_gdpr_df[\"model\"].unique())\n"
   ]
  },
  {
   "cell_type": "code",
   "execution_count": 10,
   "id": "d46e536f",
   "metadata": {},
   "outputs": [
    {
     "name": "stdout",
     "output_type": "stream",
     "text": [
      "['gpt-4.1' 'gpt-4.5-preview' 'gpt-4o-audio-preview'\n",
      " 'gpt-4o-mini-audio-preview' 'gpt-4o-mini-realtime-preview'\n",
      " 'gpt-4o-realtime-preview' 'text-embedding-3-small']\n"
     ]
    }
   ],
   "source": [
    "models_not_in_gdpr_df = df[~df[\"model\"].isin(models_in_gdpr_df[\"model\"])]\n",
    "print(models_not_in_gdpr_df[\"model\"].unique())"
   ]
  },
  {
   "cell_type": "code",
   "execution_count": 11,
   "id": "3f4bc4c7",
   "metadata": {},
   "outputs": [],
   "source": [
    "# TODO: Currently only Azure OpenAI is included. Add Azure AI Service models "
   ]
  },
  {
   "cell_type": "code",
   "execution_count": 12,
   "id": "da7e6ae8",
   "metadata": {},
   "outputs": [],
   "source": [
    "quota_df = read_markdown_table(\"downloaded_files/quota.md\")"
   ]
  }
 ],
 "metadata": {
  "kernelspec": {
   "display_name": ".venv",
   "language": "python",
   "name": "python3"
  },
  "language_info": {
   "codemirror_mode": {
    "name": "ipython",
    "version": 3
   },
   "file_extension": ".py",
   "mimetype": "text/x-python",
   "name": "python",
   "nbconvert_exporter": "python",
   "pygments_lexer": "ipython3",
   "version": "3.10.11"
  }
 },
 "nbformat": 4,
 "nbformat_minor": 5
}
