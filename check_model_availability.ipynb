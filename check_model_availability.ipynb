{
 "cells": [
  {
   "cell_type": "code",
   "execution_count": 1,
   "id": "66e594c6",
   "metadata": {},
   "outputs": [],
   "source": [
    "from io import StringIO\n",
    "import subprocess\n",
    "import pandas as pd\n",
    "\n",
    "\n",
    "def run_command(command):\n",
    "    result = subprocess.run(command, shell=True, check=True, capture_output=True, text=True)\n",
    "    return result.stdout"
   ]
  },
  {
   "cell_type": "code",
   "execution_count": 2,
   "id": "e9e6f53e",
   "metadata": {},
   "outputs": [],
   "source": [
    "# TODO: run for all GDPR Regions\n",
    "def get_available_models(region='swedencentral'):\n",
    "    cmd = f\"az cognitiveservices model list -l {region}\"\n",
    "    cmd_output = run_command(cmd)\n",
    "    full_df = pd.read_json(StringIO(cmd_output))\n",
    "    full_df[\"region\"] = region\n",
    "\n",
    "    # parse json in column model into separate columns, but keep the rest of the columns\n",
    "    model_df = pd.json_normalize(full_df['model'])\n",
    "    # append model. to column names\n",
    "    model_df.columns = ['model.' + col for col in model_df.columns]\n",
    "\n",
    "    # combine the two dataframes\n",
    "    full_df = pd.concat([full_df.drop(columns=['model']), model_df], axis=1)\n",
    "\n",
    "    sku_df = full_df.explode('model.skus')\n",
    "    sku_norm_df = pd.json_normalize(sku_df['model.skus'])\n",
    "    # append sku. to column names\n",
    "    sku_norm_df.columns = ['model.sku.' + col for col in sku_norm_df.columns]\n",
    "\n",
    "    sku_df = sku_df.reset_index(drop=True)\n",
    "    full_df = pd.concat([sku_df.drop(columns=['model.skus']), sku_norm_df], axis=1)\n",
    "    return full_df\n",
    "\n",
    "full_df = get_available_models('swedencentral')\n",
    "eastus2_df = get_available_models('eastus2')\n",
    "\n",
    "full_df = pd.concat([full_df, eastus2_df])"
   ]
  },
  {
   "cell_type": "code",
   "execution_count": 3,
   "id": "0217d19e",
   "metadata": {},
   "outputs": [],
   "source": [
    "# filter deprecated models (model.deprecation.inference lower then today)\n",
    "full_df['model.deprecation.inference'] = pd.to_datetime(full_df['model.deprecation.inference'], errors='coerce')\n",
    "current_time = pd.Timestamp.now(tz='UTC')  # Ensure the timestamp is timezone-aware\n",
    "df = full_df[full_df['model.deprecation.inference'].isna() | (full_df['model.deprecation.inference'] > current_time)]"
   ]
  },
  {
   "cell_type": "code",
   "execution_count": 4,
   "id": "9d2b5050",
   "metadata": {},
   "outputs": [
    {
     "data": {
      "text/plain": [
       "array(['dall-e-3', 'whisper', 'gpt-35-turbo', 'gpt-35-turbo-instruct',\n",
       "       'gpt-35-turbo-16k', 'gpt-4', 'gpt-4-32k', 'gpt-4o', 'gpt-4o-mini',\n",
       "       'gpt-4o-audio-preview', 'o1', 'o3-mini', 'text-embedding-ada-002',\n",
       "       'text-embedding-3-large'], dtype=object)"
      ]
     },
     "execution_count": 4,
     "metadata": {},
     "output_type": "execute_result"
    }
   ],
   "source": [
    "sc_usable_models_df = df[(~df[\"model.sku.name\"].str.contains(pat=\"global\", case=False, na=True)) & (df[\"region\"] == \"swedencentral\")]\n",
    "sc_usable_models_df[\"model.name\"].unique()"
   ]
  },
  {
   "cell_type": "code",
   "execution_count": 5,
   "id": "69afe68d",
   "metadata": {},
   "outputs": [
    {
     "data": {
      "text/plain": [
       "array(['gpt-4o-mini-realtime-preview', 'gpt-4o-realtime-preview',\n",
       "       'gpt-4.5-preview', 'gpt-4.1', 'gpt-4.1-nano', 'o1-mini',\n",
       "       'text-embedding-3-small', 'AI21-Jamba-1.5-Large',\n",
       "       'AI21-Jamba-1.5-Mini', 'AI21-Jamba-Instruct', 'Codestral-2501',\n",
       "       'Cohere-command-r', 'Cohere-command-r-08-2024',\n",
       "       'Cohere-command-r-plus', 'Cohere-command-r-plus-08-2024',\n",
       "       'Cohere-embed-v3-english', 'Cohere-embed-v3-multilingual',\n",
       "       'DeepSeek-R1', 'DeepSeek-V3', 'DeepSeek-V3-0324', 'jais-30b-chat',\n",
       "       'Llama-3.2-11B-Vision-Instruct', 'Llama-3.2-90B-Vision-Instruct',\n",
       "       'Llama-3.3-70B-Instruct', 'Meta-Llama-3-70B-Instruct',\n",
       "       'Meta-Llama-3-8B-Instruct', 'Meta-Llama-3.1-405B-Instruct',\n",
       "       'Meta-Llama-3.1-70B-Instruct', 'Meta-Llama-3.1-8B-Instruct',\n",
       "       'Ministral-3B', 'Mistral-large', 'Mistral-large-2407',\n",
       "       'Mistral-Large-2411', 'Mistral-Nemo', 'Mistral-small',\n",
       "       'mistral-small-2503', 'Phi-3-medium-128k-instruct',\n",
       "       'Phi-3-medium-4k-instruct', 'Phi-3-mini-128k-instruct',\n",
       "       'Phi-3-mini-4k-instruct', 'Phi-3-small-128k-instruct',\n",
       "       'Phi-3-small-8k-instruct', 'Phi-3.5-mini-instruct',\n",
       "       'Phi-3.5-MoE-instruct', 'Phi-3.5-vision-instruct', 'Phi-4',\n",
       "       'Phi-4-mini-instruct', 'Phi-4-multimodal-instruct',\n",
       "       'gpt-4o-mini-audio-preview', 'gpt-4o-transcribe',\n",
       "       'gpt-4o-mini-transcribe', 'gpt-4o-mini-tts'], dtype=object)"
      ]
     },
     "execution_count": 5,
     "metadata": {},
     "output_type": "execute_result"
    }
   ],
   "source": [
    "\n",
    "unusable_models_df = df[~df[\"model.name\"].isin(sc_usable_models_df[\"model.name\"])]\n",
    "unusable_models_df[\"model.name\"].unique()"
   ]
  },
  {
   "cell_type": "code",
   "execution_count": null,
   "id": "c5601bd3",
   "metadata": {},
   "outputs": [],
   "source": []
  }
 ],
 "metadata": {
  "kernelspec": {
   "display_name": ".venv",
   "language": "python",
   "name": "python3"
  },
  "language_info": {
   "codemirror_mode": {
    "name": "ipython",
    "version": 3
   },
   "file_extension": ".py",
   "mimetype": "text/x-python",
   "name": "python",
   "nbconvert_exporter": "python",
   "pygments_lexer": "ipython3",
   "version": "3.10.11"
  }
 },
 "nbformat": 4,
 "nbformat_minor": 5
}
