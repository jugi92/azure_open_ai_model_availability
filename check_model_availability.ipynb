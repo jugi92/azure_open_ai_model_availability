{
 "cells": [
  {
   "cell_type": "code",
   "execution_count": 1,
   "id": "66e594c6",
   "metadata": {},
   "outputs": [],
   "source": [
    "from io import StringIO\n",
    "import subprocess\n",
    "import pandas as pd\n",
    "\n",
    "\n",
    "def run_command(command):\n",
    "    result = subprocess.run(command, shell=True, check=True, capture_output=True, text=True)\n",
    "    return result.stdout"
   ]
  },
  {
   "cell_type": "code",
   "execution_count": 2,
   "id": "e9e6f53e",
   "metadata": {},
   "outputs": [],
   "source": [
    "# TODO: run for all GDPR Regions\n",
    "cmd = \"az cognitiveservices model list -l swedencentral\"\n",
    "cmd_output = run_command(cmd)\n",
    "df = pd.read_json(StringIO(cmd_output))\n",
    "\n",
    "# parse json in column model into separate columns, but keep the rest of the columns\n",
    "model_df = pd.json_normalize(df['model'])\n",
    "# append model. to column names\n",
    "model_df.columns = ['model.' + col for col in model_df.columns]\n",
    "\n",
    "# combine the two dataframes\n",
    "df = pd.concat([df.drop(columns=['model']), model_df], axis=1)\n",
    "\n",
    "sku_df = df.explode('model.skus')\n",
    "sku_norm_df = pd.json_normalize(sku_df['model.skus'])\n",
    "# append sku. to column names\n",
    "sku_norm_df.columns = ['model.sku.' + col for col in sku_norm_df.columns]\n",
    "\n",
    "sku_df = sku_df.reset_index(drop=True)\n",
    "df = pd.concat([sku_df.drop(columns=['model.skus']), sku_norm_df], axis=1)"
   ]
  },
  {
   "cell_type": "code",
   "execution_count": 3,
   "id": "9d2b5050",
   "metadata": {},
   "outputs": [
    {
     "data": {
      "text/plain": [
       "array(['dall-e-3', 'tts', 'tts-hd', 'whisper', 'gpt-35-turbo',\n",
       "       'gpt-35-turbo-instruct', 'gpt-35-turbo-16k', 'gpt-4', 'gpt-4-32k',\n",
       "       'gpt-4o', 'gpt-4o-mini', 'gpt-4o-audio-preview', 'o1', 'o3-mini',\n",
       "       'ada', 'text-embedding-ada-002', 'babbage', 'babbage-002', 'curie',\n",
       "       'davinci', 'davinci-002', 'text-embedding-3-large'], dtype=object)"
      ]
     },
     "execution_count": 3,
     "metadata": {},
     "output_type": "execute_result"
    }
   ],
   "source": [
    "usable_models_df = df[~df[\"model.sku.name\"].str.contains(pat=\"global\", case=False, na=False)]\n",
    "usable_models_df[\"model.name\"].unique()"
   ]
  },
  {
   "cell_type": "code",
   "execution_count": 4,
   "id": "69afe68d",
   "metadata": {},
   "outputs": [
    {
     "data": {
      "text/plain": [
       "array(['gpt-4o-mini-realtime-preview', 'gpt-4o-realtime-preview',\n",
       "       'gpt-4.5-preview', 'gpt-4.1', 'gpt-4.1-nano', 'o1-mini',\n",
       "       'text-embedding-3-small', 'AI21-Jamba-1.5-Large',\n",
       "       'AI21-Jamba-1.5-Mini', 'AI21-Jamba-Instruct', 'Codestral-2501',\n",
       "       'Cohere-command-r', 'Cohere-command-r-08-2024',\n",
       "       'Cohere-command-r-plus', 'Cohere-command-r-plus-08-2024',\n",
       "       'Cohere-embed-v3-english', 'Cohere-embed-v3-multilingual',\n",
       "       'DeepSeek-R1', 'DeepSeek-V3', 'DeepSeek-V3-0324', 'jais-30b-chat',\n",
       "       'Llama-3.2-11B-Vision-Instruct', 'Llama-3.2-90B-Vision-Instruct',\n",
       "       'Llama-3.3-70B-Instruct', 'Meta-Llama-3-70B-Instruct',\n",
       "       'Meta-Llama-3-8B-Instruct', 'Meta-Llama-3.1-405B-Instruct',\n",
       "       'Meta-Llama-3.1-70B-Instruct', 'Meta-Llama-3.1-8B-Instruct',\n",
       "       'Ministral-3B', 'Mistral-large', 'Mistral-large-2407',\n",
       "       'Mistral-Large-2411', 'Mistral-Nemo', 'Mistral-small',\n",
       "       'mistral-small-2503', 'Phi-3-medium-128k-instruct',\n",
       "       'Phi-3-medium-4k-instruct', 'Phi-3-mini-128k-instruct',\n",
       "       'Phi-3-mini-4k-instruct', 'Phi-3-small-128k-instruct',\n",
       "       'Phi-3-small-8k-instruct', 'Phi-3.5-mini-instruct',\n",
       "       'Phi-3.5-MoE-instruct', 'Phi-3.5-vision-instruct', 'Phi-4',\n",
       "       'Phi-4-mini-instruct', 'Phi-4-multimodal-instruct'], dtype=object)"
      ]
     },
     "execution_count": 4,
     "metadata": {},
     "output_type": "execute_result"
    }
   ],
   "source": [
    "\n",
    "unusable_models_df = df[~df[\"model.name\"].isin(usable_models_df[\"model.name\"])]\n",
    "unusable_models_df[\"model.name\"].unique()"
   ]
  }
 ],
 "metadata": {
  "kernelspec": {
   "display_name": ".venv",
   "language": "python",
   "name": "python3"
  },
  "language_info": {
   "codemirror_mode": {
    "name": "ipython",
    "version": 3
   },
   "file_extension": ".py",
   "mimetype": "text/x-python",
   "name": "python",
   "nbconvert_exporter": "python",
   "pygments_lexer": "ipython3",
   "version": "3.10.11"
  }
 },
 "nbformat": 4,
 "nbformat_minor": 5
}
